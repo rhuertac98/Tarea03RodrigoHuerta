{
 "cells": [
  {
   "cell_type": "code",
   "execution_count": 1,
   "id": "adc82e30-a4b0-468d-8dc7-3b528495b7d9",
   "metadata": {},
   "outputs": [
    {
     "name": "stderr",
     "output_type": "stream",
     "text": [
      "usage: ipykernel_launcher.py [-h] archivo_csv modelo_salida\n",
      "ipykernel_launcher.py: error: the following arguments are required: modelo_salida\n"
     ]
    },
    {
     "ename": "SystemExit",
     "evalue": "2",
     "output_type": "error",
     "traceback": [
      "An exception has occurred, use %tb to see the full traceback.\n",
      "\u001b[1;31mSystemExit\u001b[0m\u001b[1;31m:\u001b[0m 2\n"
     ]
    },
    {
     "name": "stderr",
     "output_type": "stream",
     "text": [
      "C:\\Users\\rhuer\\anaconda3\\Lib\\site-packages\\IPython\\core\\interactiveshell.py:3561: UserWarning: To exit: use 'exit', 'quit', or Ctrl-D.\n",
      "  warn(\"To exit: use 'exit', 'quit', or Ctrl-D.\", stacklevel=1)\n"
     ]
    }
   ],
   "source": [
    "import pandas as pd\n",
    "\n",
    "from sklearn.metrics import accuracy_score\n",
    "import joblib\n",
    "import argparse\n",
    "from xgboost import XGBRegressor\n",
    "\n",
    "def cargar_datos(archivo_csv):\n",
    "    \"\"\"Cargar datos desde un archivo CSV.\"\"\"\n",
    "    return pd.read_csv(archivo_csv)\n",
    "\n",
    "def entrenar_modelo(X_train, y_train):\n",
    "    \"\"\"Entrenar un modelo de regresión logística.\"\"\"\n",
    "    modelo = XGBRegressor(n_estimators=100, learning_rate=0.1, max_depth=3, random_state=42)\n",
    "    modelo.fit(X_train, y_train)\n",
    "    return modelo\n",
    "\n",
    "def guardar_modelo(modelo, nombre_archivo):\n",
    "    \"\"\"Guardar el modelo entrenado en un archivo.\"\"\"\n",
    "    joblib.dump(modelo, nombre_archivo)\n",
    "\n",
    "def main():\n",
    "    # Argumentos de línea de comandos\n",
    "    parser = argparse.ArgumentParser(description=\"Entrenar un modelo con un archivo CSV.\")\n",
    "    parser.add_argument(\"archivo_csv\", type=str, help=\"Ruta al archivo CSV con los datos. La última columna deber ser la variable objetivo.\")\n",
    "    parser.add_argument(\"modelo_salida\", type=str, help=\"Ruta donde se guardará el modelo entrenado.\")\n",
    "    args = parser.parse_args()\n",
    "\n",
    "    # Cargar datos\n",
    "    datos = cargar_datos(args.archivo_csv)\n",
    "    \n",
    "    # Separar las características (X) y la etiqueta (y)\n",
    "    # Suponiendo que la última columna es la etiqueta\n",
    "    X_train = datos.iloc[:, :-1]  # Todas las columnas excepto la última\n",
    "    y_train = datos.iloc[:, -1]   # Última columna\n",
    "\n",
    "\n",
    "    # Entrenar el modelo\n",
    "    modelo = entrenar_modelo(X_train, y_train)\n",
    "\n",
    "    # Guardar el modelo entrenado\n",
    "    guardar_modelo(modelo, args.modelo_salida)\n",
    "    print(f\"Modelo guardado en: {args.modelo_salida}\")\n",
    "\n",
    "if __name__ == \"__main__\":\n",
    "    main()\n"
   ]
  },
  {
   "cell_type": "code",
   "execution_count": null,
   "id": "5122ecd8-6089-49eb-82bb-19160c440857",
   "metadata": {},
   "outputs": [],
   "source": []
  }
 ],
 "metadata": {
  "kernelspec": {
   "display_name": "Python 3 (ipykernel)",
   "language": "python",
   "name": "python3"
  },
  "language_info": {
   "codemirror_mode": {
    "name": "ipython",
    "version": 3
   },
   "file_extension": ".py",
   "mimetype": "text/x-python",
   "name": "python",
   "nbconvert_exporter": "python",
   "pygments_lexer": "ipython3",
   "version": "3.11.7"
  }
 },
 "nbformat": 4,
 "nbformat_minor": 5
}
