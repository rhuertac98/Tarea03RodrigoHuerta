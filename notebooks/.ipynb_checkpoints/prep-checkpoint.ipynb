{
 "cells": [
  {
   "cell_type": "code",
   "execution_count": 25,
   "id": "7a5054ef-4037-433f-8fd9-37b5d968dba2",
   "metadata": {},
   "outputs": [],
   "source": [
    "import pandas as pd\n",
    "import os\n",
    "import argparse"
   ]
  },
  {
   "cell_type": "code",
   "execution_count": 3,
   "id": "8dc809d7-8260-4dd3-8585-a7db7c018ee5",
   "metadata": {},
   "outputs": [],
   "source": [
    "directorio_datos = 'data/'"
   ]
  },
  {
   "cell_type": "code",
   "execution_count": 7,
   "id": "dfe4c2f4-ee06-4fc1-aa8f-a47ebbe33ddc",
   "metadata": {},
   "outputs": [],
   "source": [
    "# Lee los datos desde el directorio 'data/'\n",
    "def carga_datos(nombre_datos):\n",
    "    datos_raw = os.path.join(directorio_datos, nombre_datos)  # Ajusta el nombre del archivo\n",
    "    if os.path.exists(datos_raw):\n",
    "        data = pd.read_csv(datos_raw)\n",
    "        return data\n",
    "    else:\n",
    "        raise FileNotFoundError(f\"El archivo {datos_raw} no existe.\")"
   ]
  },
  {
   "cell_type": "code",
   "execution_count": 11,
   "id": "bbb94975-877b-45b8-84d1-620db62e3577",
   "metadata": {},
   "outputs": [],
   "source": [
    "def OHE_datos(data):\n",
    "    cat_cols = data.select_dtypes(include=['object']).columns ###Generamos una \"lista\" de las columnas object\n",
    "    encoder = OneHotEncoder(sparse_output=False, drop='first') ###Generamos el encoder\n",
    "    encoded_data = encoder.fit_transform(data[cat_cols]) ###Aplicamos el encoder a la \"lista\" de columnas object. Esto es un array\n",
    "    encoded_dataframe = pd.DataFrame(encoded_data, columns=encoder.get_feature_names_out(cat_cols)) ###Transformamos el array en un data frame\n",
    "    data_OHE = pd.concat([data.drop(columns=cat_cols), encoded_dataframe], axis=1)\n",
    "    \n",
    "    return data_OHE"
   ]
  },
  {
   "cell_type": "code",
   "execution_count": 13,
   "id": "dd5e62f7-3769-401d-ad93-a2e15c42107b",
   "metadata": {},
   "outputs": [],
   "source": [
    "def guardar_datos(data):\n",
    "    archivo_OHE = os.path.join(directorio_datos, 'datos_OHE.csv')\n",
    "    data.to_csv(archivo_OHE, index=False)\n",
    "    print(f\"Datos codificados con OHE en {archivo_OHE}\")"
   ]
  },
  {
   "cell_type": "code",
   "execution_count": 21,
   "id": "9b23e0c6-86db-4277-85f3-c54c989ba945",
   "metadata": {},
   "outputs": [],
   "source": [
    "def main():\n",
    "    try:\n",
    "        parser = argparse.ArgumentParser(description='Procesar archivos CSV de datos.')\n",
    "        parser.add_argument('nombre_archivo', type=str, help='Nombre del archivo CSV para aplicar ONE HOT ENCODING')\n",
    "        args = parser.parse_args()\n",
    "\n",
    "        nombre_datos = args.nombre_archivo\n",
    "        print(f\"Procesando el archivo: {nombre_datos}\")\n",
    "        \n",
    "        # Cargar datos\n",
    "        datos = carga_datos(nombre_datos)\n",
    "        print(\"Datos cargados exitosamente.\")\n",
    "        \n",
    "        # Procesar los datos\n",
    "        OHE_data = OHE_datos(datos)\n",
    "        print(\"Datos procesados.\")\n",
    "        \n",
    "        # Guardar los datos procesados\n",
    "        guardar_datos(OHE_datos)\n",
    "    except Exception as e:\n",
    "        print(f\"Hubo un error: {e}\")"
   ]
  },
  {
   "cell_type": "code",
   "execution_count": 27,
   "id": "dac6f8ea-6bd0-451b-955d-3d142dd67695",
   "metadata": {},
   "outputs": [
    {
     "name": "stderr",
     "output_type": "stream",
     "text": [
      "usage: ipykernel_launcher.py [-h] nombre_archivo\n",
      "ipykernel_launcher.py: error: unrecognized arguments: -f\n"
     ]
    },
    {
     "ename": "SystemExit",
     "evalue": "2",
     "output_type": "error",
     "traceback": [
      "An exception has occurred, use %tb to see the full traceback.\n",
      "\u001b[1;31mSystemExit\u001b[0m\u001b[1;31m:\u001b[0m 2\n"
     ]
    },
    {
     "name": "stderr",
     "output_type": "stream",
     "text": [
      "C:\\Users\\rhuer\\anaconda3\\Lib\\site-packages\\IPython\\core\\interactiveshell.py:3561: UserWarning: To exit: use 'exit', 'quit', or Ctrl-D.\n",
      "  warn(\"To exit: use 'exit', 'quit', or Ctrl-D.\", stacklevel=1)\n"
     ]
    }
   ],
   "source": [
    "if __name__ == '__main__':\n",
    "    main()"
   ]
  },
  {
   "cell_type": "code",
   "execution_count": null,
   "id": "c863c7d7-de63-4ff2-b2d9-fc2545f0fb3e",
   "metadata": {},
   "outputs": [],
   "source": []
  }
 ],
 "metadata": {
  "kernelspec": {
   "display_name": "Python 3 (ipykernel)",
   "language": "python",
   "name": "python3"
  },
  "language_info": {
   "codemirror_mode": {
    "name": "ipython",
    "version": 3
   },
   "file_extension": ".py",
   "mimetype": "text/x-python",
   "name": "python",
   "nbconvert_exporter": "python",
   "pygments_lexer": "ipython3",
   "version": "3.11.7"
  }
 },
 "nbformat": 4,
 "nbformat_minor": 5
}
